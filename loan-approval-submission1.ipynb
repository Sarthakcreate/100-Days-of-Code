{
 "cells": [
  {
   "cell_type": "markdown",
   "id": "c2e90f6b",
   "metadata": {
    "papermill": {
     "duration": 0.009419,
     "end_time": "2024-10-07T05:05:04.308881",
     "exception": false,
     "start_time": "2024-10-07T05:05:04.299462",
     "status": "completed"
    },
    "tags": []
   },
   "source": [
    "## Importing Libraries"
   ]
  },
  {
   "cell_type": "code",
   "execution_count": 1,
   "id": "1c6fda1b",
   "metadata": {
    "execution": {
     "iopub.execute_input": "2024-10-07T05:05:04.327494Z",
     "iopub.status.busy": "2024-10-07T05:05:04.327029Z",
     "iopub.status.idle": "2024-10-07T05:05:07.231798Z",
     "shell.execute_reply": "2024-10-07T05:05:07.230241Z"
    },
    "papermill": {
     "duration": 2.917033,
     "end_time": "2024-10-07T05:05:07.234599",
     "exception": false,
     "start_time": "2024-10-07T05:05:04.317566",
     "status": "completed"
    },
    "tags": []
   },
   "outputs": [],
   "source": [
    "import pandas as pd\n",
    "import numpy as np\n",
    "import matplotlib.pyplot as plt\n",
    "import seaborn as sns\n",
    "\n",
    "import warnings\n",
    "warnings.filterwarnings(\"ignore\")"
   ]
  },
  {
   "cell_type": "code",
   "execution_count": 2,
   "id": "ed2062cc",
   "metadata": {
    "execution": {
     "iopub.execute_input": "2024-10-07T05:05:07.253442Z",
     "iopub.status.busy": "2024-10-07T05:05:07.252825Z",
     "iopub.status.idle": "2024-10-07T05:05:07.563628Z",
     "shell.execute_reply": "2024-10-07T05:05:07.562346Z"
    },
    "papermill": {
     "duration": 0.323602,
     "end_time": "2024-10-07T05:05:07.566285",
     "exception": false,
     "start_time": "2024-10-07T05:05:07.242683",
     "status": "completed"
    },
    "tags": []
   },
   "outputs": [],
   "source": [
    "from sklearn.preprocessing import OneHotEncoder, StandardScaler, OrdinalEncoder,LabelEncoder\n",
    "from sklearn.model_selection import train_test_split\n",
    "from sklearn.metrics import mean_squared_error, mean_absolute_error, r2_score\n",
    "from sklearn.metrics import accuracy_score, precision_score, recall_score, f1_score"
   ]
  },
  {
   "cell_type": "code",
   "execution_count": 3,
   "id": "b6e78e89",
   "metadata": {
    "execution": {
     "iopub.execute_input": "2024-10-07T05:05:07.584716Z",
     "iopub.status.busy": "2024-10-07T05:05:07.583807Z",
     "iopub.status.idle": "2024-10-07T05:05:09.300611Z",
     "shell.execute_reply": "2024-10-07T05:05:09.299219Z"
    },
    "papermill": {
     "duration": 1.729094,
     "end_time": "2024-10-07T05:05:09.303512",
     "exception": false,
     "start_time": "2024-10-07T05:05:07.574418",
     "status": "completed"
    },
    "tags": []
   },
   "outputs": [],
   "source": [
    "from sklearn.linear_model import LinearRegression\n",
    "from sklearn.tree import DecisionTreeRegressor\n",
    "from sklearn.ensemble import RandomForestClassifier\n",
    "from lightgbm import LGBMClassifier\n",
    "from xgboost import XGBRegressor\n",
    "from sklearn.svm import SVC"
   ]
  },
  {
   "cell_type": "code",
   "execution_count": 4,
   "id": "fd52923a",
   "metadata": {
    "execution": {
     "iopub.execute_input": "2024-10-07T05:05:09.326040Z",
     "iopub.status.busy": "2024-10-07T05:05:09.325389Z",
     "iopub.status.idle": "2024-10-07T05:05:09.333120Z",
     "shell.execute_reply": "2024-10-07T05:05:09.331170Z"
    },
    "papermill": {
     "duration": 0.021642,
     "end_time": "2024-10-07T05:05:09.336149",
     "exception": false,
     "start_time": "2024-10-07T05:05:09.314507",
     "status": "completed"
    },
    "tags": []
   },
   "outputs": [],
   "source": [
    "from sklearn.metrics import accuracy_score\n",
    "from sklearn.model_selection import GridSearchCV\n",
    "from sklearn.metrics import confusion_matrix, accuracy_score, classification_report"
   ]
  },
  {
   "cell_type": "markdown",
   "id": "4e2e2c84",
   "metadata": {
    "papermill": {
     "duration": 0.008298,
     "end_time": "2024-10-07T05:05:09.352920",
     "exception": false,
     "start_time": "2024-10-07T05:05:09.344622",
     "status": "completed"
    },
    "tags": []
   },
   "source": [
    "## EDA"
   ]
  },
  {
   "cell_type": "code",
   "execution_count": 5,
   "id": "76bcde49",
   "metadata": {
    "execution": {
     "iopub.execute_input": "2024-10-07T05:05:09.371716Z",
     "iopub.status.busy": "2024-10-07T05:05:09.371288Z",
     "iopub.status.idle": "2024-10-07T05:05:09.606285Z",
     "shell.execute_reply": "2024-10-07T05:05:09.604901Z"
    },
    "papermill": {
     "duration": 0.248007,
     "end_time": "2024-10-07T05:05:09.609103",
     "exception": false,
     "start_time": "2024-10-07T05:05:09.361096",
     "status": "completed"
    },
    "tags": []
   },
   "outputs": [],
   "source": [
    "df_train = pd.read_csv('/kaggle/input/playground-series-s4e10/train.csv')\n",
    "df_test = pd.read_csv('/kaggle/input/playground-series-s4e10/test.csv')"
   ]
  },
  {
   "cell_type": "code",
   "execution_count": 6,
   "id": "2b518288",
   "metadata": {
    "execution": {
     "iopub.execute_input": "2024-10-07T05:05:09.627481Z",
     "iopub.status.busy": "2024-10-07T05:05:09.627077Z",
     "iopub.status.idle": "2024-10-07T05:05:09.658236Z",
     "shell.execute_reply": "2024-10-07T05:05:09.657065Z"
    },
    "papermill": {
     "duration": 0.043634,
     "end_time": "2024-10-07T05:05:09.660781",
     "exception": false,
     "start_time": "2024-10-07T05:05:09.617147",
     "status": "completed"
    },
    "tags": []
   },
   "outputs": [
    {
     "data": {
      "text/html": [
       "<div>\n",
       "<style scoped>\n",
       "    .dataframe tbody tr th:only-of-type {\n",
       "        vertical-align: middle;\n",
       "    }\n",
       "\n",
       "    .dataframe tbody tr th {\n",
       "        vertical-align: top;\n",
       "    }\n",
       "\n",
       "    .dataframe thead th {\n",
       "        text-align: right;\n",
       "    }\n",
       "</style>\n",
       "<table border=\"1\" class=\"dataframe\">\n",
       "  <thead>\n",
       "    <tr style=\"text-align: right;\">\n",
       "      <th></th>\n",
       "      <th>id</th>\n",
       "      <th>person_age</th>\n",
       "      <th>person_income</th>\n",
       "      <th>person_home_ownership</th>\n",
       "      <th>person_emp_length</th>\n",
       "      <th>loan_intent</th>\n",
       "      <th>loan_grade</th>\n",
       "      <th>loan_amnt</th>\n",
       "      <th>loan_int_rate</th>\n",
       "      <th>loan_percent_income</th>\n",
       "      <th>cb_person_default_on_file</th>\n",
       "      <th>cb_person_cred_hist_length</th>\n",
       "      <th>loan_status</th>\n",
       "    </tr>\n",
       "  </thead>\n",
       "  <tbody>\n",
       "    <tr>\n",
       "      <th>0</th>\n",
       "      <td>0</td>\n",
       "      <td>37</td>\n",
       "      <td>35000</td>\n",
       "      <td>RENT</td>\n",
       "      <td>0.0</td>\n",
       "      <td>EDUCATION</td>\n",
       "      <td>B</td>\n",
       "      <td>6000</td>\n",
       "      <td>11.49</td>\n",
       "      <td>0.17</td>\n",
       "      <td>N</td>\n",
       "      <td>14</td>\n",
       "      <td>0</td>\n",
       "    </tr>\n",
       "    <tr>\n",
       "      <th>1</th>\n",
       "      <td>1</td>\n",
       "      <td>22</td>\n",
       "      <td>56000</td>\n",
       "      <td>OWN</td>\n",
       "      <td>6.0</td>\n",
       "      <td>MEDICAL</td>\n",
       "      <td>C</td>\n",
       "      <td>4000</td>\n",
       "      <td>13.35</td>\n",
       "      <td>0.07</td>\n",
       "      <td>N</td>\n",
       "      <td>2</td>\n",
       "      <td>0</td>\n",
       "    </tr>\n",
       "    <tr>\n",
       "      <th>2</th>\n",
       "      <td>2</td>\n",
       "      <td>29</td>\n",
       "      <td>28800</td>\n",
       "      <td>OWN</td>\n",
       "      <td>8.0</td>\n",
       "      <td>PERSONAL</td>\n",
       "      <td>A</td>\n",
       "      <td>6000</td>\n",
       "      <td>8.90</td>\n",
       "      <td>0.21</td>\n",
       "      <td>N</td>\n",
       "      <td>10</td>\n",
       "      <td>0</td>\n",
       "    </tr>\n",
       "    <tr>\n",
       "      <th>3</th>\n",
       "      <td>3</td>\n",
       "      <td>30</td>\n",
       "      <td>70000</td>\n",
       "      <td>RENT</td>\n",
       "      <td>14.0</td>\n",
       "      <td>VENTURE</td>\n",
       "      <td>B</td>\n",
       "      <td>12000</td>\n",
       "      <td>11.11</td>\n",
       "      <td>0.17</td>\n",
       "      <td>N</td>\n",
       "      <td>5</td>\n",
       "      <td>0</td>\n",
       "    </tr>\n",
       "    <tr>\n",
       "      <th>4</th>\n",
       "      <td>4</td>\n",
       "      <td>22</td>\n",
       "      <td>60000</td>\n",
       "      <td>RENT</td>\n",
       "      <td>2.0</td>\n",
       "      <td>MEDICAL</td>\n",
       "      <td>A</td>\n",
       "      <td>6000</td>\n",
       "      <td>6.92</td>\n",
       "      <td>0.10</td>\n",
       "      <td>N</td>\n",
       "      <td>3</td>\n",
       "      <td>0</td>\n",
       "    </tr>\n",
       "  </tbody>\n",
       "</table>\n",
       "</div>"
      ],
      "text/plain": [
       "   id  person_age  person_income person_home_ownership  person_emp_length  \\\n",
       "0   0          37          35000                  RENT                0.0   \n",
       "1   1          22          56000                   OWN                6.0   \n",
       "2   2          29          28800                   OWN                8.0   \n",
       "3   3          30          70000                  RENT               14.0   \n",
       "4   4          22          60000                  RENT                2.0   \n",
       "\n",
       "  loan_intent loan_grade  loan_amnt  loan_int_rate  loan_percent_income  \\\n",
       "0   EDUCATION          B       6000          11.49                 0.17   \n",
       "1     MEDICAL          C       4000          13.35                 0.07   \n",
       "2    PERSONAL          A       6000           8.90                 0.21   \n",
       "3     VENTURE          B      12000          11.11                 0.17   \n",
       "4     MEDICAL          A       6000           6.92                 0.10   \n",
       "\n",
       "  cb_person_default_on_file  cb_person_cred_hist_length  loan_status  \n",
       "0                         N                          14            0  \n",
       "1                         N                           2            0  \n",
       "2                         N                          10            0  \n",
       "3                         N                           5            0  \n",
       "4                         N                           3            0  "
      ]
     },
     "execution_count": 6,
     "metadata": {},
     "output_type": "execute_result"
    }
   ],
   "source": [
    "df_train.head()"
   ]
  },
  {
   "cell_type": "code",
   "execution_count": 7,
   "id": "4f318a52",
   "metadata": {
    "execution": {
     "iopub.execute_input": "2024-10-07T05:05:09.679189Z",
     "iopub.status.busy": "2024-10-07T05:05:09.678777Z",
     "iopub.status.idle": "2024-10-07T05:05:09.696859Z",
     "shell.execute_reply": "2024-10-07T05:05:09.695575Z"
    },
    "papermill": {
     "duration": 0.029917,
     "end_time": "2024-10-07T05:05:09.699202",
     "exception": false,
     "start_time": "2024-10-07T05:05:09.669285",
     "status": "completed"
    },
    "tags": []
   },
   "outputs": [
    {
     "data": {
      "text/html": [
       "<div>\n",
       "<style scoped>\n",
       "    .dataframe tbody tr th:only-of-type {\n",
       "        vertical-align: middle;\n",
       "    }\n",
       "\n",
       "    .dataframe tbody tr th {\n",
       "        vertical-align: top;\n",
       "    }\n",
       "\n",
       "    .dataframe thead th {\n",
       "        text-align: right;\n",
       "    }\n",
       "</style>\n",
       "<table border=\"1\" class=\"dataframe\">\n",
       "  <thead>\n",
       "    <tr style=\"text-align: right;\">\n",
       "      <th></th>\n",
       "      <th>id</th>\n",
       "      <th>person_age</th>\n",
       "      <th>person_income</th>\n",
       "      <th>person_home_ownership</th>\n",
       "      <th>person_emp_length</th>\n",
       "      <th>loan_intent</th>\n",
       "      <th>loan_grade</th>\n",
       "      <th>loan_amnt</th>\n",
       "      <th>loan_int_rate</th>\n",
       "      <th>loan_percent_income</th>\n",
       "      <th>cb_person_default_on_file</th>\n",
       "      <th>cb_person_cred_hist_length</th>\n",
       "      <th>loan_status</th>\n",
       "    </tr>\n",
       "  </thead>\n",
       "  <tbody>\n",
       "    <tr>\n",
       "      <th>58640</th>\n",
       "      <td>58640</td>\n",
       "      <td>34</td>\n",
       "      <td>120000</td>\n",
       "      <td>MORTGAGE</td>\n",
       "      <td>5.0</td>\n",
       "      <td>EDUCATION</td>\n",
       "      <td>D</td>\n",
       "      <td>25000</td>\n",
       "      <td>15.95</td>\n",
       "      <td>0.21</td>\n",
       "      <td>Y</td>\n",
       "      <td>10</td>\n",
       "      <td>0</td>\n",
       "    </tr>\n",
       "    <tr>\n",
       "      <th>58641</th>\n",
       "      <td>58641</td>\n",
       "      <td>28</td>\n",
       "      <td>28800</td>\n",
       "      <td>RENT</td>\n",
       "      <td>0.0</td>\n",
       "      <td>MEDICAL</td>\n",
       "      <td>C</td>\n",
       "      <td>10000</td>\n",
       "      <td>12.73</td>\n",
       "      <td>0.35</td>\n",
       "      <td>N</td>\n",
       "      <td>8</td>\n",
       "      <td>1</td>\n",
       "    </tr>\n",
       "    <tr>\n",
       "      <th>58642</th>\n",
       "      <td>58642</td>\n",
       "      <td>23</td>\n",
       "      <td>44000</td>\n",
       "      <td>RENT</td>\n",
       "      <td>7.0</td>\n",
       "      <td>EDUCATION</td>\n",
       "      <td>D</td>\n",
       "      <td>6800</td>\n",
       "      <td>16.00</td>\n",
       "      <td>0.15</td>\n",
       "      <td>N</td>\n",
       "      <td>2</td>\n",
       "      <td>1</td>\n",
       "    </tr>\n",
       "    <tr>\n",
       "      <th>58643</th>\n",
       "      <td>58643</td>\n",
       "      <td>22</td>\n",
       "      <td>30000</td>\n",
       "      <td>RENT</td>\n",
       "      <td>2.0</td>\n",
       "      <td>EDUCATION</td>\n",
       "      <td>A</td>\n",
       "      <td>5000</td>\n",
       "      <td>8.90</td>\n",
       "      <td>0.17</td>\n",
       "      <td>N</td>\n",
       "      <td>3</td>\n",
       "      <td>0</td>\n",
       "    </tr>\n",
       "    <tr>\n",
       "      <th>58644</th>\n",
       "      <td>58644</td>\n",
       "      <td>31</td>\n",
       "      <td>75000</td>\n",
       "      <td>MORTGAGE</td>\n",
       "      <td>2.0</td>\n",
       "      <td>VENTURE</td>\n",
       "      <td>B</td>\n",
       "      <td>15000</td>\n",
       "      <td>11.11</td>\n",
       "      <td>0.20</td>\n",
       "      <td>N</td>\n",
       "      <td>5</td>\n",
       "      <td>0</td>\n",
       "    </tr>\n",
       "  </tbody>\n",
       "</table>\n",
       "</div>"
      ],
      "text/plain": [
       "          id  person_age  person_income person_home_ownership  \\\n",
       "58640  58640          34         120000              MORTGAGE   \n",
       "58641  58641          28          28800                  RENT   \n",
       "58642  58642          23          44000                  RENT   \n",
       "58643  58643          22          30000                  RENT   \n",
       "58644  58644          31          75000              MORTGAGE   \n",
       "\n",
       "       person_emp_length loan_intent loan_grade  loan_amnt  loan_int_rate  \\\n",
       "58640                5.0   EDUCATION          D      25000          15.95   \n",
       "58641                0.0     MEDICAL          C      10000          12.73   \n",
       "58642                7.0   EDUCATION          D       6800          16.00   \n",
       "58643                2.0   EDUCATION          A       5000           8.90   \n",
       "58644                2.0     VENTURE          B      15000          11.11   \n",
       "\n",
       "       loan_percent_income cb_person_default_on_file  \\\n",
       "58640                 0.21                         Y   \n",
       "58641                 0.35                         N   \n",
       "58642                 0.15                         N   \n",
       "58643                 0.17                         N   \n",
       "58644                 0.20                         N   \n",
       "\n",
       "       cb_person_cred_hist_length  loan_status  \n",
       "58640                          10            0  \n",
       "58641                           8            1  \n",
       "58642                           2            1  \n",
       "58643                           3            0  \n",
       "58644                           5            0  "
      ]
     },
     "execution_count": 7,
     "metadata": {},
     "output_type": "execute_result"
    }
   ],
   "source": [
    "df_train.tail()"
   ]
  },
  {
   "cell_type": "code",
   "execution_count": 8,
   "id": "1d25e063",
   "metadata": {
    "execution": {
     "iopub.execute_input": "2024-10-07T05:05:09.718993Z",
     "iopub.status.busy": "2024-10-07T05:05:09.718552Z",
     "iopub.status.idle": "2024-10-07T05:05:09.779289Z",
     "shell.execute_reply": "2024-10-07T05:05:09.778179Z"
    },
    "papermill": {
     "duration": 0.07364,
     "end_time": "2024-10-07T05:05:09.782068",
     "exception": false,
     "start_time": "2024-10-07T05:05:09.708428",
     "status": "completed"
    },
    "tags": []
   },
   "outputs": [
    {
     "data": {
      "text/html": [
       "<div>\n",
       "<style scoped>\n",
       "    .dataframe tbody tr th:only-of-type {\n",
       "        vertical-align: middle;\n",
       "    }\n",
       "\n",
       "    .dataframe tbody tr th {\n",
       "        vertical-align: top;\n",
       "    }\n",
       "\n",
       "    .dataframe thead th {\n",
       "        text-align: right;\n",
       "    }\n",
       "</style>\n",
       "<table border=\"1\" class=\"dataframe\">\n",
       "  <thead>\n",
       "    <tr style=\"text-align: right;\">\n",
       "      <th></th>\n",
       "      <th>id</th>\n",
       "      <th>person_age</th>\n",
       "      <th>person_income</th>\n",
       "      <th>person_emp_length</th>\n",
       "      <th>loan_amnt</th>\n",
       "      <th>loan_int_rate</th>\n",
       "      <th>loan_percent_income</th>\n",
       "      <th>cb_person_cred_hist_length</th>\n",
       "      <th>loan_status</th>\n",
       "    </tr>\n",
       "  </thead>\n",
       "  <tbody>\n",
       "    <tr>\n",
       "      <th>count</th>\n",
       "      <td>58645.000000</td>\n",
       "      <td>58645.000000</td>\n",
       "      <td>5.864500e+04</td>\n",
       "      <td>58645.000000</td>\n",
       "      <td>58645.000000</td>\n",
       "      <td>58645.000000</td>\n",
       "      <td>58645.000000</td>\n",
       "      <td>58645.000000</td>\n",
       "      <td>58645.000000</td>\n",
       "    </tr>\n",
       "    <tr>\n",
       "      <th>mean</th>\n",
       "      <td>29322.000000</td>\n",
       "      <td>27.550857</td>\n",
       "      <td>6.404617e+04</td>\n",
       "      <td>4.701015</td>\n",
       "      <td>9217.556518</td>\n",
       "      <td>10.677874</td>\n",
       "      <td>0.159238</td>\n",
       "      <td>5.813556</td>\n",
       "      <td>0.142382</td>\n",
       "    </tr>\n",
       "    <tr>\n",
       "      <th>std</th>\n",
       "      <td>16929.497605</td>\n",
       "      <td>6.033216</td>\n",
       "      <td>3.793111e+04</td>\n",
       "      <td>3.959784</td>\n",
       "      <td>5563.807384</td>\n",
       "      <td>3.034697</td>\n",
       "      <td>0.091692</td>\n",
       "      <td>4.029196</td>\n",
       "      <td>0.349445</td>\n",
       "    </tr>\n",
       "    <tr>\n",
       "      <th>min</th>\n",
       "      <td>0.000000</td>\n",
       "      <td>20.000000</td>\n",
       "      <td>4.200000e+03</td>\n",
       "      <td>0.000000</td>\n",
       "      <td>500.000000</td>\n",
       "      <td>5.420000</td>\n",
       "      <td>0.000000</td>\n",
       "      <td>2.000000</td>\n",
       "      <td>0.000000</td>\n",
       "    </tr>\n",
       "    <tr>\n",
       "      <th>25%</th>\n",
       "      <td>14661.000000</td>\n",
       "      <td>23.000000</td>\n",
       "      <td>4.200000e+04</td>\n",
       "      <td>2.000000</td>\n",
       "      <td>5000.000000</td>\n",
       "      <td>7.880000</td>\n",
       "      <td>0.090000</td>\n",
       "      <td>3.000000</td>\n",
       "      <td>0.000000</td>\n",
       "    </tr>\n",
       "    <tr>\n",
       "      <th>50%</th>\n",
       "      <td>29322.000000</td>\n",
       "      <td>26.000000</td>\n",
       "      <td>5.800000e+04</td>\n",
       "      <td>4.000000</td>\n",
       "      <td>8000.000000</td>\n",
       "      <td>10.750000</td>\n",
       "      <td>0.140000</td>\n",
       "      <td>4.000000</td>\n",
       "      <td>0.000000</td>\n",
       "    </tr>\n",
       "    <tr>\n",
       "      <th>75%</th>\n",
       "      <td>43983.000000</td>\n",
       "      <td>30.000000</td>\n",
       "      <td>7.560000e+04</td>\n",
       "      <td>7.000000</td>\n",
       "      <td>12000.000000</td>\n",
       "      <td>12.990000</td>\n",
       "      <td>0.210000</td>\n",
       "      <td>8.000000</td>\n",
       "      <td>0.000000</td>\n",
       "    </tr>\n",
       "    <tr>\n",
       "      <th>max</th>\n",
       "      <td>58644.000000</td>\n",
       "      <td>123.000000</td>\n",
       "      <td>1.900000e+06</td>\n",
       "      <td>123.000000</td>\n",
       "      <td>35000.000000</td>\n",
       "      <td>23.220000</td>\n",
       "      <td>0.830000</td>\n",
       "      <td>30.000000</td>\n",
       "      <td>1.000000</td>\n",
       "    </tr>\n",
       "  </tbody>\n",
       "</table>\n",
       "</div>"
      ],
      "text/plain": [
       "                 id    person_age  person_income  person_emp_length  \\\n",
       "count  58645.000000  58645.000000   5.864500e+04       58645.000000   \n",
       "mean   29322.000000     27.550857   6.404617e+04           4.701015   \n",
       "std    16929.497605      6.033216   3.793111e+04           3.959784   \n",
       "min        0.000000     20.000000   4.200000e+03           0.000000   \n",
       "25%    14661.000000     23.000000   4.200000e+04           2.000000   \n",
       "50%    29322.000000     26.000000   5.800000e+04           4.000000   \n",
       "75%    43983.000000     30.000000   7.560000e+04           7.000000   \n",
       "max    58644.000000    123.000000   1.900000e+06         123.000000   \n",
       "\n",
       "          loan_amnt  loan_int_rate  loan_percent_income  \\\n",
       "count  58645.000000   58645.000000         58645.000000   \n",
       "mean    9217.556518      10.677874             0.159238   \n",
       "std     5563.807384       3.034697             0.091692   \n",
       "min      500.000000       5.420000             0.000000   \n",
       "25%     5000.000000       7.880000             0.090000   \n",
       "50%     8000.000000      10.750000             0.140000   \n",
       "75%    12000.000000      12.990000             0.210000   \n",
       "max    35000.000000      23.220000             0.830000   \n",
       "\n",
       "       cb_person_cred_hist_length   loan_status  \n",
       "count                58645.000000  58645.000000  \n",
       "mean                     5.813556      0.142382  \n",
       "std                      4.029196      0.349445  \n",
       "min                      2.000000      0.000000  \n",
       "25%                      3.000000      0.000000  \n",
       "50%                      4.000000      0.000000  \n",
       "75%                      8.000000      0.000000  \n",
       "max                     30.000000      1.000000  "
      ]
     },
     "execution_count": 8,
     "metadata": {},
     "output_type": "execute_result"
    }
   ],
   "source": [
    "df_train.describe()"
   ]
  },
  {
   "cell_type": "code",
   "execution_count": 9,
   "id": "4b825ea5",
   "metadata": {
    "execution": {
     "iopub.execute_input": "2024-10-07T05:05:09.802948Z",
     "iopub.status.busy": "2024-10-07T05:05:09.801851Z",
     "iopub.status.idle": "2024-10-07T05:05:09.838620Z",
     "shell.execute_reply": "2024-10-07T05:05:09.837382Z"
    },
    "papermill": {
     "duration": 0.050445,
     "end_time": "2024-10-07T05:05:09.841332",
     "exception": false,
     "start_time": "2024-10-07T05:05:09.790887",
     "status": "completed"
    },
    "tags": []
   },
   "outputs": [
    {
     "name": "stdout",
     "output_type": "stream",
     "text": [
      "<class 'pandas.core.frame.DataFrame'>\n",
      "RangeIndex: 58645 entries, 0 to 58644\n",
      "Data columns (total 13 columns):\n",
      " #   Column                      Non-Null Count  Dtype  \n",
      "---  ------                      --------------  -----  \n",
      " 0   id                          58645 non-null  int64  \n",
      " 1   person_age                  58645 non-null  int64  \n",
      " 2   person_income               58645 non-null  int64  \n",
      " 3   person_home_ownership       58645 non-null  object \n",
      " 4   person_emp_length           58645 non-null  float64\n",
      " 5   loan_intent                 58645 non-null  object \n",
      " 6   loan_grade                  58645 non-null  object \n",
      " 7   loan_amnt                   58645 non-null  int64  \n",
      " 8   loan_int_rate               58645 non-null  float64\n",
      " 9   loan_percent_income         58645 non-null  float64\n",
      " 10  cb_person_default_on_file   58645 non-null  object \n",
      " 11  cb_person_cred_hist_length  58645 non-null  int64  \n",
      " 12  loan_status                 58645 non-null  int64  \n",
      "dtypes: float64(3), int64(6), object(4)\n",
      "memory usage: 5.8+ MB\n"
     ]
    }
   ],
   "source": [
    "df_train.info()"
   ]
  },
  {
   "cell_type": "code",
   "execution_count": 10,
   "id": "487b186d",
   "metadata": {
    "execution": {
     "iopub.execute_input": "2024-10-07T05:05:09.861768Z",
     "iopub.status.busy": "2024-10-07T05:05:09.861331Z",
     "iopub.status.idle": "2024-10-07T05:05:09.884342Z",
     "shell.execute_reply": "2024-10-07T05:05:09.882996Z"
    },
    "papermill": {
     "duration": 0.036578,
     "end_time": "2024-10-07T05:05:09.887242",
     "exception": false,
     "start_time": "2024-10-07T05:05:09.850664",
     "status": "completed"
    },
    "tags": []
   },
   "outputs": [
    {
     "data": {
      "text/plain": [
       "id                            0\n",
       "person_age                    0\n",
       "person_income                 0\n",
       "person_home_ownership         0\n",
       "person_emp_length             0\n",
       "loan_intent                   0\n",
       "loan_grade                    0\n",
       "loan_amnt                     0\n",
       "loan_int_rate                 0\n",
       "loan_percent_income           0\n",
       "cb_person_default_on_file     0\n",
       "cb_person_cred_hist_length    0\n",
       "loan_status                   0\n",
       "dtype: int64"
      ]
     },
     "execution_count": 10,
     "metadata": {},
     "output_type": "execute_result"
    }
   ],
   "source": [
    "df_train.isnull().sum()"
   ]
  },
  {
   "cell_type": "markdown",
   "id": "baff5d70",
   "metadata": {
    "papermill": {
     "duration": 0.008712,
     "end_time": "2024-10-07T05:05:09.905107",
     "exception": false,
     "start_time": "2024-10-07T05:05:09.896395",
     "status": "completed"
    },
    "tags": []
   },
   "source": [
    "## Data does not contain null values"
   ]
  },
  {
   "cell_type": "code",
   "execution_count": 11,
   "id": "3b64baf9",
   "metadata": {
    "execution": {
     "iopub.execute_input": "2024-10-07T05:05:09.924841Z",
     "iopub.status.busy": "2024-10-07T05:05:09.924421Z",
     "iopub.status.idle": "2024-10-07T05:05:09.936030Z",
     "shell.execute_reply": "2024-10-07T05:05:09.935017Z"
    },
    "papermill": {
     "duration": 0.025051,
     "end_time": "2024-10-07T05:05:09.939019",
     "exception": false,
     "start_time": "2024-10-07T05:05:09.913968",
     "status": "completed"
    },
    "tags": []
   },
   "outputs": [],
   "source": [
    "df_train=df_train.drop('id',axis=1)"
   ]
  },
  {
   "cell_type": "markdown",
   "id": "fae770d1",
   "metadata": {
    "papermill": {
     "duration": 0.008629,
     "end_time": "2024-10-07T05:05:09.956570",
     "exception": false,
     "start_time": "2024-10-07T05:05:09.947941",
     "status": "completed"
    },
    "tags": []
   },
   "source": [
    "## Data Visualization"
   ]
  },
  {
   "cell_type": "code",
   "execution_count": 12,
   "id": "0540de45",
   "metadata": {
    "execution": {
     "iopub.execute_input": "2024-10-07T05:05:09.976666Z",
     "iopub.status.busy": "2024-10-07T05:05:09.976257Z",
     "iopub.status.idle": "2024-10-07T05:05:15.256784Z",
     "shell.execute_reply": "2024-10-07T05:05:15.254970Z"
    },
    "papermill": {
     "duration": 5.29386,
     "end_time": "2024-10-07T05:05:15.259449",
     "exception": false,
     "start_time": "2024-10-07T05:05:09.965589",
     "status": "completed"
    },
    "tags": []
   },
   "outputs": [
    {
     "data": {
      "image/png": "[encoded data removed]",
      "text/plain": [
       "<Figure size 600x600 with 1 Axes>"
      ]
     },
     "metadata": {},
     "output_type": "display_data"
    },
    {
     "data": {
      "image/png": "[encoded data removed]",
      "text/plain": [
       "<Figure size 600x600 with 1 Axes>"
      ]
     },
     "metadata": {},
     "output_type": "display_data"
    },
    {
     "data": {
      "image/png": "[encoded data removed]",
      "text/plain": [
       "<Figure size 600x600 with 1 Axes>"
      ]
     },
     "metadata": {},
     "output_type": "display_data"
    },
    {
     "data": {
      "image/png": "[encoded data removed]",
      "text/plain": [
       "<Figure size 600x600 with 1 Axes>"
      ]
     },
     "metadata": {},
     "output_type": "display_data"
    },
    {
     "data": {
      "image/png": "[encoded data removed]",
      "text/plain": [
       "<Figure size 600x600 with 1 Axes>"
      ]
     },
     "metadata": {},
     "output_type": "display_data"
    }
   ],
   "source": [
    "for cols in df_train.select_dtypes(include='int64').columns:\n",
    "    plt.figure(figsize=(6,6))\n",
    "    sns.histplot(data=df_train, x=cols, kde=True)  # Use sns.histplot and add kde=True for a KDE curve\n",
    "    plt.title(f\"Distribution of {cols}\")\n",
    "    plt.show()"
   ]
  },
  {
   "cell_type": "code",
   "execution_count": 13,
   "id": "d49e09b8",
   "metadata": {
    "execution": {
     "iopub.execute_input": "2024-10-07T05:05:15.287486Z",
     "iopub.status.busy": "2024-10-07T05:05:15.287002Z",
     "iopub.status.idle": "2024-10-07T05:05:15.306789Z",
     "shell.execute_reply": "2024-10-07T05:05:15.305396Z"
    },
    "papermill": {
     "duration": 0.03891,
     "end_time": "2024-10-07T05:05:15.310947",
     "exception": false,
     "start_time": "2024-10-07T05:05:15.272037",
     "status": "completed"
    },
    "tags": []
   },
   "outputs": [
    {
     "data": {
      "text/html": [
       "<div>\n",
       "<style scoped>\n",
       "    .dataframe tbody tr th:only-of-type {\n",
       "        vertical-align: middle;\n",
       "    }\n",
       "\n",
       "    .dataframe tbody tr th {\n",
       "        vertical-align: top;\n",
       "    }\n",
       "\n",
       "    .dataframe thead th {\n",
       "        text-align: right;\n",
       "    }\n",
       "</style>\n",
       "<table border=\"1\" class=\"dataframe\">\n",
       "  <thead>\n",
       "    <tr style=\"text-align: right;\">\n",
       "      <th></th>\n",
       "      <th>person_home_ownership</th>\n",
       "      <th>loan_intent</th>\n",
       "      <th>loan_grade</th>\n",
       "      <th>cb_person_default_on_file</th>\n",
       "    </tr>\n",
       "  </thead>\n",
       "  <tbody>\n",
       "    <tr>\n",
       "      <th>0</th>\n",
       "      <td>RENT</td>\n",
       "      <td>EDUCATION</td>\n",
       "      <td>B</td>\n",
       "      <td>N</td>\n",
       "    </tr>\n",
       "    <tr>\n",
       "      <th>1</th>\n",
       "      <td>OWN</td>\n",
       "      <td>MEDICAL</td>\n",
       "      <td>C</td>\n",
       "      <td>N</td>\n",
       "    </tr>\n",
       "    <tr>\n",
       "      <th>2</th>\n",
       "      <td>OWN</td>\n",
       "      <td>PERSONAL</td>\n",
       "      <td>A</td>\n",
       "      <td>N</td>\n",
       "    </tr>\n",
       "    <tr>\n",
       "      <th>3</th>\n",
       "      <td>RENT</td>\n",
       "      <td>VENTURE</td>\n",
       "      <td>B</td>\n",
       "      <td>N</td>\n",
       "    </tr>\n",
       "    <tr>\n",
       "      <th>4</th>\n",
       "      <td>RENT</td>\n",
       "      <td>MEDICAL</td>\n",
       "      <td>A</td>\n",
       "      <td>N</td>\n",
       "    </tr>\n",
       "    <tr>\n",
       "      <th>...</th>\n",
       "      <td>...</td>\n",
       "      <td>...</td>\n",
       "      <td>...</td>\n",
       "      <td>...</td>\n",
       "    </tr>\n",
       "    <tr>\n",
       "      <th>58640</th>\n",
       "      <td>MORTGAGE</td>\n",
       "      <td>EDUCATION</td>\n",
       "      <td>D</td>\n",
       "      <td>Y</td>\n",
       "    </tr>\n",
       "    <tr>\n",
       "      <th>58641</th>\n",
       "      <td>RENT</td>\n",
       "      <td>MEDICAL</td>\n",
       "      <td>C</td>\n",
       "      <td>N</td>\n",
       "    </tr>\n",
       "    <tr>\n",
       "      <th>58642</th>\n",
       "      <td>RENT</td>\n",
       "      <td>EDUCATION</td>\n",
       "      <td>D</td>\n",
       "      <td>N</td>\n",
       "    </tr>\n",
       "    <tr>\n",
       "      <th>58643</th>\n",
       "      <td>RENT</td>\n",
       "      <td>EDUCATION</td>\n",
       "      <td>A</td>\n",
       "      <td>N</td>\n",
       "    </tr>\n",
       "    <tr>\n",
       "      <th>58644</th>\n",
       "      <td>MORTGAGE</td>\n",
       "      <td>VENTURE</td>\n",
       "      <td>B</td>\n",
       "      <td>N</td>\n",
       "    </tr>\n",
       "  </tbody>\n",
       "</table>\n",
       "<p>58645 rows × 4 columns</p>\n",
       "</div>"
      ],
      "text/plain": [
       "      person_home_ownership loan_intent loan_grade cb_person_default_on_file\n",
       "0                      RENT   EDUCATION          B                         N\n",
       "1                       OWN     MEDICAL          C                         N\n",
       "2                       OWN    PERSONAL          A                         N\n",
       "3                      RENT     VENTURE          B                         N\n",
       "4                      RENT     MEDICAL          A                         N\n",
       "...                     ...         ...        ...                       ...\n",
       "58640              MORTGAGE   EDUCATION          D                         Y\n",
       "58641                  RENT     MEDICAL          C                         N\n",
       "58642                  RENT   EDUCATION          D                         N\n",
       "58643                  RENT   EDUCATION          A                         N\n",
       "58644              MORTGAGE     VENTURE          B                         N\n",
       "\n",
       "[58645 rows x 4 columns]"
      ]
     },
     "execution_count": 13,
     "metadata": {},
     "output_type": "execute_result"
    }
   ],
   "source": [
    "df_train.select_dtypes('object')"
   ]
  },
  {
   "cell_type": "markdown",
   "id": "b1182735",
   "metadata": {
    "papermill": {
     "duration": 0.013279,
     "end_time": "2024-10-07T05:05:15.340948",
     "exception": false,
     "start_time": "2024-10-07T05:05:15.327669",
     "status": "completed"
    },
    "tags": []
   },
   "source": [
    "## Model Training"
   ]
  },
  {
   "cell_type": "code",
   "execution_count": 14,
   "id": "80f96c8a",
   "metadata": {
    "execution": {
     "iopub.execute_input": "2024-10-07T05:05:15.370352Z",
     "iopub.status.busy": "2024-10-07T05:05:15.369752Z",
     "iopub.status.idle": "2024-10-07T05:05:15.382742Z",
     "shell.execute_reply": "2024-10-07T05:05:15.381430Z"
    },
    "papermill": {
     "duration": 0.031373,
     "end_time": "2024-10-07T05:05:15.385653",
     "exception": false,
     "start_time": "2024-10-07T05:05:15.354280",
     "status": "completed"
    },
    "tags": []
   },
   "outputs": [],
   "source": [
    "X=df_train.drop('loan_status',axis=1)\n",
    "y=df_train['loan_status']"
   ]
  },
  {
   "cell_type": "code",
   "execution_count": 15,
   "id": "acd7eda0",
   "metadata": {
    "execution": {
     "iopub.execute_input": "2024-10-07T05:05:15.412758Z",
     "iopub.status.busy": "2024-10-07T05:05:15.411950Z",
     "iopub.status.idle": "2024-10-07T05:05:15.472594Z",
     "shell.execute_reply": "2024-10-07T05:05:15.471270Z"
    },
    "papermill": {
     "duration": 0.077491,
     "end_time": "2024-10-07T05:05:15.475450",
     "exception": false,
     "start_time": "2024-10-07T05:05:15.397959",
     "status": "completed"
    },
    "tags": []
   },
   "outputs": [],
   "source": [
    "le=LabelEncoder()\n",
    "for col in X.select_dtypes('object').columns:\n",
    "    X[col]=le.fit_transform(X[col])"
   ]
  },
  {
   "cell_type": "code",
   "execution_count": 16,
   "id": "6ccb599b",
   "metadata": {
    "execution": {
     "iopub.execute_input": "2024-10-07T05:05:15.501857Z",
     "iopub.status.busy": "2024-10-07T05:05:15.501260Z",
     "iopub.status.idle": "2024-10-07T05:05:15.526368Z",
     "shell.execute_reply": "2024-10-07T05:05:15.524804Z"
    },
    "papermill": {
     "duration": 0.042047,
     "end_time": "2024-10-07T05:05:15.529775",
     "exception": false,
     "start_time": "2024-10-07T05:05:15.487728",
     "status": "completed"
    },
    "tags": []
   },
   "outputs": [],
   "source": [
    "X_train,X_test,y_train,y_test=train_test_split(X,y,test_size=0.3,random_state=42)"
   ]
  },
  {
   "cell_type": "code",
   "execution_count": 17,
   "id": "e95069ee",
   "metadata": {
    "execution": {
     "iopub.execute_input": "2024-10-07T05:05:15.558562Z",
     "iopub.status.busy": "2024-10-07T05:05:15.557070Z",
     "iopub.status.idle": "2024-10-07T05:05:15.565716Z",
     "shell.execute_reply": "2024-10-07T05:05:15.564106Z"
    },
    "papermill": {
     "duration": 0.027495,
     "end_time": "2024-10-07T05:05:15.569228",
     "exception": false,
     "start_time": "2024-10-07T05:05:15.541733",
     "status": "completed"
    },
    "tags": []
   },
   "outputs": [],
   "source": [
    "models = {\n",
    "    'Linear_Regression':LinearRegression(),\n",
    "    'DecisionTree':DecisionTreeRegressor(),\n",
    "    'Random Forest': RandomForestClassifier(),\n",
    "    'XGB':XGBRegressor(),\n",
    "    'SVM':SVC(),\n",
    "    'LightBGM':LGBMClassifier()\n",
    "}"
   ]
  },
  {
   "cell_type": "code",
   "execution_count": 18,
   "id": "6feeb2a3",
   "metadata": {
    "execution": {
     "iopub.execute_input": "2024-10-07T05:05:15.599021Z",
     "iopub.status.busy": "2024-10-07T05:05:15.598575Z",
     "iopub.status.idle": "2024-10-07T05:06:10.892845Z",
     "shell.execute_reply": "2024-10-07T05:06:10.891219Z"
    },
    "papermill": {
     "duration": 55.312215,
     "end_time": "2024-10-07T05:06:10.895836",
     "exception": false,
     "start_time": "2024-10-07T05:05:15.583621",
     "status": "completed"
    },
    "tags": []
   },
   "outputs": [
    {
     "name": "stdout",
     "output_type": "stream",
     "text": [
      "[LightGBM] [Info] Number of positive: 5882, number of negative: 35169\n",
      "[LightGBM] [Info] Auto-choosing row-wise multi-threading, the overhead of testing was 0.006090 seconds.\n",
      "You can set `force_row_wise=true` to remove the overhead.\n",
      "And if memory is not enough, you can set `force_col_wise=true`.\n",
      "[LightGBM] [Info] Total Bins 836\n",
      "[LightGBM] [Info] Number of data points in the train set: 41051, number of used features: 11\n",
      "[LightGBM] [Info] [binary:BoostFromScore]: pavg=0.143285 -> initscore=-1.788268\n",
      "[LightGBM] [Info] Start training from score -1.788268\n",
      "               Model  Accuracy  Precision    Recall  F1-Score\n",
      "0  Linear_Regression  0.889451   0.881395  0.889451  0.865418\n",
      "1       DecisionTree  0.911674   0.914351  0.911674  0.912881\n",
      "2      Random Forest  0.949642   0.948601  0.949642  0.946682\n",
      "3                XGB  0.952711   0.951755  0.952711  0.950200\n",
      "4                SVM  0.859725   0.739127  0.859725  0.794878\n",
      "5           LightBGM  0.953336   0.952293  0.953336  0.951009\n"
     ]
    }
   ],
   "source": [
    "results = {'Model': [], 'Accuracy': [], 'Precision': [], 'Recall': [], 'F1-Score': []}\n",
    "\n",
    "\n",
    "for i in models:\n",
    "    obj = models[i]\n",
    "    obj.fit(X_train, y_train)\n",
    "    obj_pred = obj.predict(X_test)\n",
    "\n",
    " \n",
    "    accuracy = accuracy_score(y_test, obj_pred>0.5)\n",
    "    precision = precision_score(y_test, obj_pred>0.5,average='weighted')\n",
    "    recall = recall_score(y_test, obj_pred>0.5,average='weighted')\n",
    "    f1 = f1_score(y_test, obj_pred>0.5,average='weighted')\n",
    "\n",
    "  \n",
    "    results['Model'].append(i)\n",
    "    results['Accuracy'].append(accuracy)\n",
    "    results['Precision'].append(precision)\n",
    "    results['Recall'].append(recall)\n",
    "    results['F1-Score'].append(f1)\n",
    "\n",
    "\n",
    "results_df = pd.DataFrame(results)\n",
    "\n",
    "print(results_df)"
   ]
  },
  {
   "cell_type": "code",
   "execution_count": 19,
   "id": "3427076a",
   "metadata": {
    "execution": {
     "iopub.execute_input": "2024-10-07T05:06:10.924498Z",
     "iopub.status.busy": "2024-10-07T05:06:10.923949Z",
     "iopub.status.idle": "2024-10-07T05:06:11.969813Z",
     "shell.execute_reply": "2024-10-07T05:06:11.968350Z"
    },
    "papermill": {
     "duration": 1.062365,
     "end_time": "2024-10-07T05:06:11.972216",
     "exception": false,
     "start_time": "2024-10-07T05:06:10.909851",
     "status": "completed"
    },
    "tags": []
   },
   "outputs": [
    {
     "name": "stdout",
     "output_type": "stream",
     "text": [
      "[LightGBM] [Info] Number of positive: 5882, number of negative: 35169\n",
      "[LightGBM] [Info] Auto-choosing col-wise multi-threading, the overhead of testing was 0.010644 seconds.\n",
      "You can set `force_col_wise=true` to remove the overhead.\n",
      "[LightGBM] [Info] Total Bins 836\n",
      "[LightGBM] [Info] Number of data points in the train set: 41051, number of used features: 11\n",
      "[LightGBM] [Info] [binary:BoostFromScore]: pavg=0.143285 -> initscore=-1.788268\n",
      "[LightGBM] [Info] Start training from score -1.788268\n",
      "Classification Report :               precision    recall  f1-score   support\n",
      "\n",
      "           0       0.99      0.96      0.97     15641\n",
      "           1       0.73      0.92      0.81      1953\n",
      "\n",
      "    accuracy                           0.95     17594\n",
      "   macro avg       0.86      0.94      0.89     17594\n",
      "weighted avg       0.96      0.95      0.96     17594\n",
      "\n"
     ]
    }
   ],
   "source": [
    "model =LGBMClassifier()\n",
    "model.fit(X_train,y_train)\n",
    "y_pred=model.predict(X_test)\n",
    "print(\"Classification Report :\" , classification_report(y_pred,y_test))"
   ]
  },
  {
   "cell_type": "markdown",
   "id": "4ba32a17",
   "metadata": {
    "papermill": {
     "duration": 0.012118,
     "end_time": "2024-10-07T05:06:11.996917",
     "exception": false,
     "start_time": "2024-10-07T05:06:11.984799",
     "status": "completed"
    },
    "tags": []
   },
   "source": [
    "## Testing the Model"
   ]
  },
  {
   "cell_type": "code",
   "execution_count": 20,
   "id": "db434897",
   "metadata": {
    "execution": {
     "iopub.execute_input": "2024-10-07T05:06:12.023574Z",
     "iopub.status.busy": "2024-10-07T05:06:12.023124Z",
     "iopub.status.idle": "2024-10-07T05:06:12.041549Z",
     "shell.execute_reply": "2024-10-07T05:06:12.039906Z"
    },
    "papermill": {
     "duration": 0.03474,
     "end_time": "2024-10-07T05:06:12.044476",
     "exception": false,
     "start_time": "2024-10-07T05:06:12.009736",
     "status": "completed"
    },
    "tags": []
   },
   "outputs": [
    {
     "data": {
      "text/html": [
       "<div>\n",
       "<style scoped>\n",
       "    .dataframe tbody tr th:only-of-type {\n",
       "        vertical-align: middle;\n",
       "    }\n",
       "\n",
       "    .dataframe tbody tr th {\n",
       "        vertical-align: top;\n",
       "    }\n",
       "\n",
       "    .dataframe thead th {\n",
       "        text-align: right;\n",
       "    }\n",
       "</style>\n",
       "<table border=\"1\" class=\"dataframe\">\n",
       "  <thead>\n",
       "    <tr style=\"text-align: right;\">\n",
       "      <th></th>\n",
       "      <th>id</th>\n",
       "      <th>person_age</th>\n",
       "      <th>person_income</th>\n",
       "      <th>person_home_ownership</th>\n",
       "      <th>person_emp_length</th>\n",
       "      <th>loan_intent</th>\n",
       "      <th>loan_grade</th>\n",
       "      <th>loan_amnt</th>\n",
       "      <th>loan_int_rate</th>\n",
       "      <th>loan_percent_income</th>\n",
       "      <th>cb_person_default_on_file</th>\n",
       "      <th>cb_person_cred_hist_length</th>\n",
       "    </tr>\n",
       "  </thead>\n",
       "  <tbody>\n",
       "    <tr>\n",
       "      <th>0</th>\n",
       "      <td>58645</td>\n",
       "      <td>23</td>\n",
       "      <td>69000</td>\n",
       "      <td>RENT</td>\n",
       "      <td>3.0</td>\n",
       "      <td>HOMEIMPROVEMENT</td>\n",
       "      <td>F</td>\n",
       "      <td>25000</td>\n",
       "      <td>15.76</td>\n",
       "      <td>0.36</td>\n",
       "      <td>N</td>\n",
       "      <td>2</td>\n",
       "    </tr>\n",
       "    <tr>\n",
       "      <th>1</th>\n",
       "      <td>58646</td>\n",
       "      <td>26</td>\n",
       "      <td>96000</td>\n",
       "      <td>MORTGAGE</td>\n",
       "      <td>6.0</td>\n",
       "      <td>PERSONAL</td>\n",
       "      <td>C</td>\n",
       "      <td>10000</td>\n",
       "      <td>12.68</td>\n",
       "      <td>0.10</td>\n",
       "      <td>Y</td>\n",
       "      <td>4</td>\n",
       "    </tr>\n",
       "    <tr>\n",
       "      <th>2</th>\n",
       "      <td>58647</td>\n",
       "      <td>26</td>\n",
       "      <td>30000</td>\n",
       "      <td>RENT</td>\n",
       "      <td>5.0</td>\n",
       "      <td>VENTURE</td>\n",
       "      <td>E</td>\n",
       "      <td>4000</td>\n",
       "      <td>17.19</td>\n",
       "      <td>0.13</td>\n",
       "      <td>Y</td>\n",
       "      <td>2</td>\n",
       "    </tr>\n",
       "    <tr>\n",
       "      <th>3</th>\n",
       "      <td>58648</td>\n",
       "      <td>33</td>\n",
       "      <td>50000</td>\n",
       "      <td>RENT</td>\n",
       "      <td>4.0</td>\n",
       "      <td>DEBTCONSOLIDATION</td>\n",
       "      <td>A</td>\n",
       "      <td>7000</td>\n",
       "      <td>8.90</td>\n",
       "      <td>0.14</td>\n",
       "      <td>N</td>\n",
       "      <td>7</td>\n",
       "    </tr>\n",
       "    <tr>\n",
       "      <th>4</th>\n",
       "      <td>58649</td>\n",
       "      <td>26</td>\n",
       "      <td>102000</td>\n",
       "      <td>MORTGAGE</td>\n",
       "      <td>8.0</td>\n",
       "      <td>HOMEIMPROVEMENT</td>\n",
       "      <td>D</td>\n",
       "      <td>15000</td>\n",
       "      <td>16.32</td>\n",
       "      <td>0.15</td>\n",
       "      <td>Y</td>\n",
       "      <td>4</td>\n",
       "    </tr>\n",
       "  </tbody>\n",
       "</table>\n",
       "</div>"
      ],
      "text/plain": [
       "      id  person_age  person_income person_home_ownership  person_emp_length  \\\n",
       "0  58645          23          69000                  RENT                3.0   \n",
       "1  58646          26          96000              MORTGAGE                6.0   \n",
       "2  58647          26          30000                  RENT                5.0   \n",
       "3  58648          33          50000                  RENT                4.0   \n",
       "4  58649          26         102000              MORTGAGE                8.0   \n",
       "\n",
       "         loan_intent loan_grade  loan_amnt  loan_int_rate  \\\n",
       "0    HOMEIMPROVEMENT          F      25000          15.76   \n",
       "1           PERSONAL          C      10000          12.68   \n",
       "2            VENTURE          E       4000          17.19   \n",
       "3  DEBTCONSOLIDATION          A       7000           8.90   \n",
       "4    HOMEIMPROVEMENT          D      15000          16.32   \n",
       "\n",
       "   loan_percent_income cb_person_default_on_file  cb_person_cred_hist_length  \n",
       "0                 0.36                         N                           2  \n",
       "1                 0.10                         Y                           4  \n",
       "2                 0.13                         Y                           2  \n",
       "3                 0.14                         N                           7  \n",
       "4                 0.15                         Y                           4  "
      ]
     },
     "execution_count": 20,
     "metadata": {},
     "output_type": "execute_result"
    }
   ],
   "source": [
    "df_test.head()"
   ]
  },
  {
   "cell_type": "code",
   "execution_count": 21,
   "id": "679c2d6e",
   "metadata": {
    "execution": {
     "iopub.execute_input": "2024-10-07T05:06:12.072960Z",
     "iopub.status.busy": "2024-10-07T05:06:12.071859Z",
     "iopub.status.idle": "2024-10-07T05:06:12.094250Z",
     "shell.execute_reply": "2024-10-07T05:06:12.093037Z"
    },
    "papermill": {
     "duration": 0.039083,
     "end_time": "2024-10-07T05:06:12.096751",
     "exception": false,
     "start_time": "2024-10-07T05:06:12.057668",
     "status": "completed"
    },
    "tags": []
   },
   "outputs": [
    {
     "name": "stdout",
     "output_type": "stream",
     "text": [
      "<class 'pandas.core.frame.DataFrame'>\n",
      "RangeIndex: 39098 entries, 0 to 39097\n",
      "Data columns (total 12 columns):\n",
      " #   Column                      Non-Null Count  Dtype  \n",
      "---  ------                      --------------  -----  \n",
      " 0   id                          39098 non-null  int64  \n",
      " 1   person_age                  39098 non-null  int64  \n",
      " 2   person_income               39098 non-null  int64  \n",
      " 3   person_home_ownership       39098 non-null  object \n",
      " 4   person_emp_length           39098 non-null  float64\n",
      " 5   loan_intent                 39098 non-null  object \n",
      " 6   loan_grade                  39098 non-null  object \n",
      " 7   loan_amnt                   39098 non-null  int64  \n",
      " 8   loan_int_rate               39098 non-null  float64\n",
      " 9   loan_percent_income         39098 non-null  float64\n",
      " 10  cb_person_default_on_file   39098 non-null  object \n",
      " 11  cb_person_cred_hist_length  39098 non-null  int64  \n",
      "dtypes: float64(3), int64(5), object(4)\n",
      "memory usage: 3.6+ MB\n"
     ]
    }
   ],
   "source": [
    "df_test.info()"
   ]
  },
  {
   "cell_type": "code",
   "execution_count": 22,
   "id": "e72c67a7",
   "metadata": {
    "execution": {
     "iopub.execute_input": "2024-10-07T05:06:12.125322Z",
     "iopub.status.busy": "2024-10-07T05:06:12.123942Z",
     "iopub.status.idle": "2024-10-07T05:06:12.143549Z",
     "shell.execute_reply": "2024-10-07T05:06:12.142153Z"
    },
    "papermill": {
     "duration": 0.035922,
     "end_time": "2024-10-07T05:06:12.146080",
     "exception": false,
     "start_time": "2024-10-07T05:06:12.110158",
     "status": "completed"
    },
    "tags": []
   },
   "outputs": [
    {
     "data": {
      "text/plain": [
       "id                            0\n",
       "person_age                    0\n",
       "person_income                 0\n",
       "person_home_ownership         0\n",
       "person_emp_length             0\n",
       "loan_intent                   0\n",
       "loan_grade                    0\n",
       "loan_amnt                     0\n",
       "loan_int_rate                 0\n",
       "loan_percent_income           0\n",
       "cb_person_default_on_file     0\n",
       "cb_person_cred_hist_length    0\n",
       "dtype: int64"
      ]
     },
     "execution_count": 22,
     "metadata": {},
     "output_type": "execute_result"
    }
   ],
   "source": [
    "df_test.isnull().sum()"
   ]
  },
  {
   "cell_type": "code",
   "execution_count": 23,
   "id": "b19840bb",
   "metadata": {
    "execution": {
     "iopub.execute_input": "2024-10-07T05:06:12.173799Z",
     "iopub.status.busy": "2024-10-07T05:06:12.173381Z",
     "iopub.status.idle": "2024-10-07T05:06:12.213997Z",
     "shell.execute_reply": "2024-10-07T05:06:12.212940Z"
    },
    "papermill": {
     "duration": 0.057974,
     "end_time": "2024-10-07T05:06:12.216665",
     "exception": false,
     "start_time": "2024-10-07T05:06:12.158691",
     "status": "completed"
    },
    "tags": []
   },
   "outputs": [],
   "source": [
    "for col in df_test.select_dtypes('object').columns:\n",
    "    df_test[col]=le.fit_transform(df_test[col])"
   ]
  },
  {
   "cell_type": "code",
   "execution_count": 24,
   "id": "f5505865",
   "metadata": {
    "execution": {
     "iopub.execute_input": "2024-10-07T05:06:12.244442Z",
     "iopub.status.busy": "2024-10-07T05:06:12.243997Z",
     "iopub.status.idle": "2024-10-07T05:06:12.251245Z",
     "shell.execute_reply": "2024-10-07T05:06:12.250275Z"
    },
    "papermill": {
     "duration": 0.02403,
     "end_time": "2024-10-07T05:06:12.253574",
     "exception": false,
     "start_time": "2024-10-07T05:06:12.229544",
     "status": "completed"
    },
    "tags": []
   },
   "outputs": [],
   "source": [
    "X_test=df_test.drop(\"id\",axis=1)"
   ]
  },
  {
   "cell_type": "code",
   "execution_count": 25,
   "id": "db51e49b",
   "metadata": {
    "execution": {
     "iopub.execute_input": "2024-10-07T05:06:12.281684Z",
     "iopub.status.busy": "2024-10-07T05:06:12.280877Z",
     "iopub.status.idle": "2024-10-07T05:06:12.822075Z",
     "shell.execute_reply": "2024-10-07T05:06:12.820906Z"
    },
    "papermill": {
     "duration": 0.558837,
     "end_time": "2024-10-07T05:06:12.824918",
     "exception": false,
     "start_time": "2024-10-07T05:06:12.266081",
     "status": "completed"
    },
    "tags": []
   },
   "outputs": [],
   "source": [
    "test_predictions = model.predict(X_test)\n",
    "test_pred_probs = model.predict_proba(X_test)[:, 1]"
   ]
  },
  {
   "cell_type": "code",
   "execution_count": 26,
   "id": "2cb3a80b",
   "metadata": {
    "execution": {
     "iopub.execute_input": "2024-10-07T05:06:12.853770Z",
     "iopub.status.busy": "2024-10-07T05:06:12.852960Z",
     "iopub.status.idle": "2024-10-07T05:06:12.860198Z",
     "shell.execute_reply": "2024-10-07T05:06:12.858866Z"
    },
    "papermill": {
     "duration": 0.024788,
     "end_time": "2024-10-07T05:06:12.862976",
     "exception": false,
     "start_time": "2024-10-07T05:06:12.838188",
     "status": "completed"
    },
    "tags": []
   },
   "outputs": [
    {
     "name": "stdout",
     "output_type": "stream",
     "text": [
      "[0.98400467 0.01272402 0.49919165 ... 0.00743795 0.29468189 0.94294395]\n"
     ]
    }
   ],
   "source": [
    "print(test_pred_probs)"
   ]
  },
  {
   "cell_type": "markdown",
   "id": "ae0acb0f",
   "metadata": {
    "papermill": {
     "duration": 0.013031,
     "end_time": "2024-10-07T05:06:12.889780",
     "exception": false,
     "start_time": "2024-10-07T05:06:12.876749",
     "status": "completed"
    },
    "tags": []
   },
   "source": [
    "## Making Submission"
   ]
  },
  {
   "cell_type": "code",
   "execution_count": 27,
   "id": "54dc9449",
   "metadata": {
    "execution": {
     "iopub.execute_input": "2024-10-07T05:06:12.917842Z",
     "iopub.status.busy": "2024-10-07T05:06:12.916950Z",
     "iopub.status.idle": "2024-10-07T05:06:12.944388Z",
     "shell.execute_reply": "2024-10-07T05:06:12.943223Z"
    },
    "papermill": {
     "duration": 0.044191,
     "end_time": "2024-10-07T05:06:12.946955",
     "exception": false,
     "start_time": "2024-10-07T05:06:12.902764",
     "status": "completed"
    },
    "tags": []
   },
   "outputs": [
    {
     "data": {
      "text/html": [
       "<div>\n",
       "<style scoped>\n",
       "    .dataframe tbody tr th:only-of-type {\n",
       "        vertical-align: middle;\n",
       "    }\n",
       "\n",
       "    .dataframe tbody tr th {\n",
       "        vertical-align: top;\n",
       "    }\n",
       "\n",
       "    .dataframe thead th {\n",
       "        text-align: right;\n",
       "    }\n",
       "</style>\n",
       "<table border=\"1\" class=\"dataframe\">\n",
       "  <thead>\n",
       "    <tr style=\"text-align: right;\">\n",
       "      <th></th>\n",
       "      <th>id</th>\n",
       "      <th>loan_status</th>\n",
       "    </tr>\n",
       "  </thead>\n",
       "  <tbody>\n",
       "    <tr>\n",
       "      <th>0</th>\n",
       "      <td>58645</td>\n",
       "      <td>0.5</td>\n",
       "    </tr>\n",
       "    <tr>\n",
       "      <th>1</th>\n",
       "      <td>58646</td>\n",
       "      <td>0.5</td>\n",
       "    </tr>\n",
       "    <tr>\n",
       "      <th>2</th>\n",
       "      <td>58647</td>\n",
       "      <td>0.5</td>\n",
       "    </tr>\n",
       "    <tr>\n",
       "      <th>3</th>\n",
       "      <td>58648</td>\n",
       "      <td>0.5</td>\n",
       "    </tr>\n",
       "    <tr>\n",
       "      <th>4</th>\n",
       "      <td>58649</td>\n",
       "      <td>0.5</td>\n",
       "    </tr>\n",
       "  </tbody>\n",
       "</table>\n",
       "</div>"
      ],
      "text/plain": [
       "      id  loan_status\n",
       "0  58645          0.5\n",
       "1  58646          0.5\n",
       "2  58647          0.5\n",
       "3  58648          0.5\n",
       "4  58649          0.5"
      ]
     },
     "execution_count": 27,
     "metadata": {},
     "output_type": "execute_result"
    }
   ],
   "source": [
    "submission=pd.read_csv(r'/kaggle/input/playground-series-s4e10/sample_submission.csv')\n",
    "submission.head()"
   ]
  },
  {
   "cell_type": "code",
   "execution_count": 28,
   "id": "229bd4f7",
   "metadata": {
    "execution": {
     "iopub.execute_input": "2024-10-07T05:06:12.974623Z",
     "iopub.status.busy": "2024-10-07T05:06:12.974204Z",
     "iopub.status.idle": "2024-10-07T05:06:12.982108Z",
     "shell.execute_reply": "2024-10-07T05:06:12.980754Z"
    },
    "papermill": {
     "duration": 0.024799,
     "end_time": "2024-10-07T05:06:12.984821",
     "exception": false,
     "start_time": "2024-10-07T05:06:12.960022",
     "status": "completed"
    },
    "tags": []
   },
   "outputs": [],
   "source": [
    "submission['loan_status'] = test_pred_probs"
   ]
  },
  {
   "cell_type": "code",
   "execution_count": 29,
   "id": "59168110",
   "metadata": {
    "execution": {
     "iopub.execute_input": "2024-10-07T05:06:13.012441Z",
     "iopub.status.busy": "2024-10-07T05:06:13.011999Z",
     "iopub.status.idle": "2024-10-07T05:06:13.117303Z",
     "shell.execute_reply": "2024-10-07T05:06:13.115971Z"
    },
    "papermill": {
     "duration": 0.122144,
     "end_time": "2024-10-07T05:06:13.119972",
     "exception": false,
     "start_time": "2024-10-07T05:06:12.997828",
     "status": "completed"
    },
    "tags": []
   },
   "outputs": [],
   "source": [
    "submission.to_csv('submission.csv', index=False)"
   ]
  },
  {
   "cell_type": "code",
   "execution_count": 30,
   "id": "e3b50bab",
   "metadata": {
    "execution": {
     "iopub.execute_input": "2024-10-07T05:06:13.147417Z",
     "iopub.status.busy": "2024-10-07T05:06:13.146919Z",
     "iopub.status.idle": "2024-10-07T05:06:13.163084Z",
     "shell.execute_reply": "2024-10-07T05:06:13.161861Z"
    },
    "papermill": {
     "duration": 0.033286,
     "end_time": "2024-10-07T05:06:13.166107",
     "exception": false,
     "start_time": "2024-10-07T05:06:13.132821",
     "status": "completed"
    },
    "tags": []
   },
   "outputs": [
    {
     "data": {
      "text/html": [
       "<div>\n",
       "<style scoped>\n",
       "    .dataframe tbody tr th:only-of-type {\n",
       "        vertical-align: middle;\n",
       "    }\n",
       "\n",
       "    .dataframe tbody tr th {\n",
       "        vertical-align: top;\n",
       "    }\n",
       "\n",
       "    .dataframe thead th {\n",
       "        text-align: right;\n",
       "    }\n",
       "</style>\n",
       "<table border=\"1\" class=\"dataframe\">\n",
       "  <thead>\n",
       "    <tr style=\"text-align: right;\">\n",
       "      <th></th>\n",
       "      <th>id</th>\n",
       "      <th>loan_status</th>\n",
       "    </tr>\n",
       "  </thead>\n",
       "  <tbody>\n",
       "    <tr>\n",
       "      <th>0</th>\n",
       "      <td>58645</td>\n",
       "      <td>0.984005</td>\n",
       "    </tr>\n",
       "    <tr>\n",
       "      <th>1</th>\n",
       "      <td>58646</td>\n",
       "      <td>0.012724</td>\n",
       "    </tr>\n",
       "    <tr>\n",
       "      <th>2</th>\n",
       "      <td>58647</td>\n",
       "      <td>0.499192</td>\n",
       "    </tr>\n",
       "    <tr>\n",
       "      <th>3</th>\n",
       "      <td>58648</td>\n",
       "      <td>0.014839</td>\n",
       "    </tr>\n",
       "    <tr>\n",
       "      <th>4</th>\n",
       "      <td>58649</td>\n",
       "      <td>0.048436</td>\n",
       "    </tr>\n",
       "    <tr>\n",
       "      <th>...</th>\n",
       "      <td>...</td>\n",
       "      <td>...</td>\n",
       "    </tr>\n",
       "    <tr>\n",
       "      <th>39093</th>\n",
       "      <td>97738</td>\n",
       "      <td>0.052951</td>\n",
       "    </tr>\n",
       "    <tr>\n",
       "      <th>39094</th>\n",
       "      <td>97739</td>\n",
       "      <td>0.005835</td>\n",
       "    </tr>\n",
       "    <tr>\n",
       "      <th>39095</th>\n",
       "      <td>97740</td>\n",
       "      <td>0.007438</td>\n",
       "    </tr>\n",
       "    <tr>\n",
       "      <th>39096</th>\n",
       "      <td>97741</td>\n",
       "      <td>0.294682</td>\n",
       "    </tr>\n",
       "    <tr>\n",
       "      <th>39097</th>\n",
       "      <td>97742</td>\n",
       "      <td>0.942944</td>\n",
       "    </tr>\n",
       "  </tbody>\n",
       "</table>\n",
       "<p>39098 rows × 2 columns</p>\n",
       "</div>"
      ],
      "text/plain": [
       "          id  loan_status\n",
       "0      58645     0.984005\n",
       "1      58646     0.012724\n",
       "2      58647     0.499192\n",
       "3      58648     0.014839\n",
       "4      58649     0.048436\n",
       "...      ...          ...\n",
       "39093  97738     0.052951\n",
       "39094  97739     0.005835\n",
       "39095  97740     0.007438\n",
       "39096  97741     0.294682\n",
       "39097  97742     0.942944\n",
       "\n",
       "[39098 rows x 2 columns]"
      ]
     },
     "execution_count": 30,
     "metadata": {},
     "output_type": "execute_result"
    }
   ],
   "source": [
    "submission"
   ]
  }
 ],
 "metadata": {
  "kaggle": {
   "accelerator": "none",
   "dataSources": [
    {
     "databundleVersionId": 9709193,
     "sourceId": 84894,
     "sourceType": "competition"
    }
   ],
   "dockerImageVersionId": 30786,
   "isGpuEnabled": false,
   "isInternetEnabled": true,
   "language": "python",
   "sourceType": "notebook"
  },
  "kernelspec": {
   "display_name": "Python 3",
   "language": "python",
   "name": "python3"
  },
  "language_info": {
   "codemirror_mode": {
    "name": "ipython",
    "version": 3
   },
   "file_extension": ".py",
   "mimetype": "text/x-python",
   "name": "python",
   "nbconvert_exporter": "python",
   "pygments_lexer": "ipython3",
   "version": "3.10.14"
  },
  "papermill": {
   "default_parameters": {},
   "duration": 73.062608,
   "end_time": "2024-10-07T05:06:14.205364",
   "environment_variables": {},
   "exception": null,
   "input_path": "__notebook__.ipynb",
   "output_path": "__notebook__.ipynb",
   "parameters": {},
   "start_time": "2024-10-07T05:05:01.142756",
   "version": "2.6.0"
  }
 },
 "nbformat": 4,
 "nbformat_minor": 5
}
